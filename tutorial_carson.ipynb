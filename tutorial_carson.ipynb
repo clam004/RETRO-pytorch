{
 "cells": [
  {
   "cell_type": "markdown",
   "id": "040419e6",
   "metadata": {},
   "source": [
    "# A RETRO tutorial by Carson Lam \n",
    "\n",
    "this is my notebook to learn and teach the implementation of <a href=\"https://arxiv.org/abs/2112.04426\">RETRO</a>, Deepmind's Retrieval based Attention net, in Pytorch, on a small but meaningful task. \n",
    "\n",
    "1. I am using python3.8, if you dont have python 3.8 there are many ways to install it, using pyenv or homebrew, I used homebrew  and followed the instructions at the end of the download. You have to restart your terminal for the changes to take effect.\n",
    "\n",
    "2. create a virtual environment for this project and entered that environment\n",
    "\n",
    "```\n",
    "python3.8 -m venv env\n",
    "source env/bin/activate\n",
    "```\n",
    "\n",
    "3. install this project's dependencies from requirements.txt\n",
    "\n",
    "```\n",
    "pip install --upgrade pip\n",
    "pip install -r requirements.txt\n",
    "```\n",
    "\n",
    "4. save any additional dependencies you have pip installed inside your environment along with the specific version back into requirements.txt for later use\n",
    "\n",
    "```\n",
    "pip freeze > requirements.txt\n",
    "```\n",
    "\n",
    "5. open up jupyter and open this notebook\n",
    "\n",
    "```\n",
    "jupyter notebook\n",
    "```"
   ]
  },
  {
   "cell_type": "code",
   "execution_count": 2,
   "id": "e0c4c836",
   "metadata": {},
   "outputs": [
    {
     "name": "stderr",
     "output_type": "stream",
     "text": [
      "/media/carson/New Volume/memory/RETRO-pytorch/env/lib/python3.8/site-packages/tqdm/auto.py:22: TqdmWarning: IProgress not found. Please update jupyter and ipywidgets. See https://ipywidgets.readthedocs.io/en/stable/user_install.html\n",
      "  from .autonotebook import tqdm as notebook_tqdm\n"
     ]
    }
   ],
   "source": [
    "import torch\n",
    "from retro_pytorch import RETRO"
   ]
  },
  {
   "cell_type": "code",
   "execution_count": null,
   "id": "8f11e160",
   "metadata": {},
   "outputs": [],
   "source": []
  }
 ],
 "metadata": {
  "kernelspec": {
   "display_name": "Python 3",
   "language": "python",
   "name": "python3"
  },
  "language_info": {
   "codemirror_mode": {
    "name": "ipython",
    "version": 3
   },
   "file_extension": ".py",
   "mimetype": "text/x-python",
   "name": "python",
   "nbconvert_exporter": "python",
   "pygments_lexer": "ipython3",
   "version": "3.8.12"
  }
 },
 "nbformat": 4,
 "nbformat_minor": 5
}
